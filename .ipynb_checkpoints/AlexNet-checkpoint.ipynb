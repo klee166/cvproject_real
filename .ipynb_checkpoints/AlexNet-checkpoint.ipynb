{
 "cells": [
  {
   "cell_type": "code",
   "execution_count": 30,
   "metadata": {},
   "outputs": [],
   "source": [
    "import torch\n",
    "from torch import autograd\n",
    "import torch.nn.functional as F\n",
    "from torch.autograd import Variable\n",
    "import torch.nn as nn\n",
    "%matplotlib inline\n",
    "import matplotlib.pyplot as plt\n",
    "import numpy as np\n",
    "import time\n",
    "import pickle\n",
    "import copy\n",
    "import torch.optim as optim"
   ]
  },
  {
   "cell_type": "code",
   "execution_count": 23,
   "metadata": {
    "collapsed": true
   },
   "outputs": [],
   "source": [
    "in_height = 120\n",
    "in_width = 120\n",
    "in_channels = 3"
   ]
  },
  {
   "cell_type": "code",
   "execution_count": 27,
   "metadata": {},
   "outputs": [],
   "source": [
    "class AlexNet(nn.Module):\n",
    "    def __init__(self, num_classes = 5):\n",
    "        super(AlexNet, self).__init__()\n",
    "        self.net = nn.Sequential(\n",
    "            nn.Conv2d(in_channels, 48, kernel_size = 11, stride = 4),\n",
    "            nn.ReLU(inplace=True),\n",
    "            nn.BatchNorm2d(48, eps = 0.001),\n",
    "            nn.MaxPool2d(kernel_size=3, stride=2),\n",
    "            nn.Conv2d(48, 128, kernel_size=5, stride=1, padding=2),\n",
    "            nn.ReLU(inplace=True),\n",
    "            nn.BatchNorm2d(128, eps=0.001),\n",
    "            nn.MaxPool2d(kernel_size=3, stride=2),\n",
    "            nn.Conv2d(128, 192, kernel_size=3, stride=1),\n",
    "            nn.ReLU(inplace=True),\n",
    "            nn.Conv2d(192, 192, kernel_size=3, stride=1),\n",
    "            nn.ReLU(inplace=True),\n",
    "            nn.Conv2d(192, 128, kernel_size=3, stride=1),\n",
    "            nn.ReLU(inplace=True),\n",
    "            nn.BatchNorm2d(128, eps=0.001),\n",
    "            nn.MaxPool2d(kernel_size=3, stride=2)\n",
    "        )\n",
    "        self.classifier = nn.Sequential(\n",
    "            \n",
    "            nn.Dropout(),\n",
    "            nn.Linear(128 * int(in_height/32) * int(in_width/32), 1024),\n",
    "            nn.ReLU(inplace=True),\n",
    "            nn.Dropout(),\n",
    "            nn.Linear(1024, 1024),\n",
    "            nn.ReLU(inplace=True),\n",
    "            nn.Linear(1024, num_classes)\n",
    "        )\n",
    "    def forward(self, x):\n",
    "        x = self.net(x)\n",
    "        x = x.view(-1, 128 * in_height/32 * in_width/32)\n",
    "        x = self.classifier(x)\n",
    "        return x"
   ]
  },
  {
   "cell_type": "code",
   "execution_count": 14,
   "metadata": {
    "collapsed": true
   },
   "outputs": [],
   "source": [
    "def train(model, criterion, optimizer, lr_scheduler, dsets_loader, dset_sizes, lr = 0.001, num_epochs = 20):\n",
    "    since = time.time()\n",
    "    use_model = model\n",
    "    best_acc = 0.0\n",
    "    history = {\n",
    "        x :[]\n",
    "        for x in ['train','val']\n",
    "    }\n",
    "    \n",
    "    for i in range(num_epoches):\n",
    "        print('Epoch {}/{}'.format(i, num_epochs - 1))\n",
    "        print('-'*10)\n",
    "        for mode in ['train','val']:\n",
    "            start = time.time()\n",
    "            \n",
    "            if mode == 'train':\n",
    "                optimizer = lr_scheduler(optimizer, epoch, init_lr = lr)\n",
    "                model.train()\n",
    "            else:\n",
    "                model.eval()\n",
    "            \n",
    "            running_loss = 0.0\n",
    "            running_corrects = 0\n",
    "            \n",
    "            for data in dsets_loader[mode]:\n",
    "                inputs, labels = data\n",
    "                inputs_, labels_ = Variable(inputs), Variable(labels)\n",
    "                \n",
    "                optimizer.zero_grad()\n",
    "                \n",
    "                outputs = model(inputs_)\n",
    "                _, preds = torch.max(outputs.data, 1)\n",
    "                loss = criterion(outputs, labels_)\n",
    "                \n",
    "                if phase == 'train':\n",
    "                    loss.backward()\n",
    "                    optimizer.step()\n",
    "                running_loss += loss.data[0]\n",
    "                running_corrects += torch.sum(preds == labels_.data)\n",
    "                \n",
    "            epoch_loss = running_loss / dsets_sizes[mode]\n",
    "            epoch_acc = running_corrects / dsets_sizes[mode]\n",
    "            epoch_time = time.time() - start\n",
    "            \n",
    "            history_dict =  {\n",
    "                'mode':mode,\n",
    "                'epoch':i,\n",
    "                'epoch_loss': epoch_loss,\n",
    "                'epoch_accuracy': epoch_acc,\n",
    "                'learing_rate':optimizer.state_dict()['param_groups'][0]['lr']\n",
    "                \n",
    "            }\n",
    "            \n",
    "            history[mode].append(history_dict)\n",
    "            \n",
    "            print('{} Loss: {:.4f} Acc:{:.4f} Time: {:.0f}m {:.0f}s'.format(mode, epoch_loss, epoch_acc, epoch_time//60, epoch_time%60))\n",
    "            \n",
    "            if phase == 'val' and epoch_acc > best_acc:\n",
    "                best_acc = epoch_acc\n",
    "                best_model = copy.deepcopy(model)\n",
    "        print()\n",
    "    time_elapsed = time.time() - since\n",
    "    \n",
    "    print('Training completion in {:.0f}m {:.0f}s'.format(time_elapsed//60, time_elapsed%60))\n",
    "    print('Best validation accuracy is {:.4f}'.format(best_acc))\n",
    "    \n",
    "    print('save mode')\n",
    "    ##here I want to save the history of the process in order to debug\n",
    "    with open('history.pickle','wb') as f:\n",
    "        pickle.dump(history, f)\n",
    "    \n",
    "    return best_model, best_acc\n"
   ]
  },
  {
   "cell_type": "code",
   "execution_count": 15,
   "metadata": {
    "collapsed": true
   },
   "outputs": [],
   "source": [
    "#add scheduler to better control learning rate \n",
    "def exp_lr_scheduler(optimizer, epoch, init_lr = 0.001, lr_decay_epoch = 5):\n",
    "    lr = init_lr * (0.9 ** (epoch // lr_decay_epoch))\n",
    "    \n",
    "    if epoch % lr_devay_epoch == 0:\n",
    "        print('Learning rate is changed to {}'.format(lr))\n",
    "    \n",
    "    for param_group in optimizer.param_groups:\n",
    "        param_group['lr'] = lr\n",
    "    return optimizer"
   ]
  },
  {
   "cell_type": "code",
   "execution_count": 17,
   "metadata": {
    "collapsed": true
   },
   "outputs": [],
   "source": [
    "#import mri_loader"
   ]
  },
  {
   "cell_type": "code",
   "execution_count": 19,
   "metadata": {},
   "outputs": [],
   "source": [
    "train_file = ''\n",
    "val_file = ''\n",
    "##load data\n",
    "#dset_loaders, dset_sizes, dset_classes = mri_loader.load_data(train_path=train_path, val_path=val_path)"
   ]
  },
  {
   "cell_type": "code",
   "execution_count": 28,
   "metadata": {},
   "outputs": [],
   "source": [
    "net = AlexNet()"
   ]
  },
  {
   "cell_type": "code",
   "execution_count": 32,
   "metadata": {},
   "outputs": [],
   "source": [
    "criterion = nn.CrossEntropyLoss()\n",
    "optimizer = optim.Adam(net.parameters(), weight_decay = 0.0005)\n",
    "lr_scheduler = exp_lr_scheduler"
   ]
  },
  {
   "cell_type": "code",
   "execution_count": 34,
   "metadata": {},
   "outputs": [],
   "source": [
    "lr = 0.001\n",
    "#best_mode, best_acc = train(net, criterion, optimizer, lr_scheduler, dset_loaders, dset_sizes, lr, 40)"
   ]
  },
  {
   "cell_type": "code",
   "execution_count": null,
   "metadata": {
    "collapsed": true
   },
   "outputs": [],
   "source": [
    "print('Saving best model')\n",
    "filename = 'trained_model_{:.2f}.pt'.format(best_acc)\n",
    "torch.save(best_model_state_dict(), filename)"
   ]
  }
 ],
 "metadata": {
  "kernelspec": {
   "display_name": "Python 3",
   "language": "python",
   "name": "python3"
  },
  "language_info": {
   "codemirror_mode": {
    "name": "ipython",
    "version": 3
   },
   "file_extension": ".py",
   "mimetype": "text/x-python",
   "name": "python",
   "nbconvert_exporter": "python",
   "pygments_lexer": "ipython3",
   "version": "3.6.3"
  }
 },
 "nbformat": 4,
 "nbformat_minor": 2
}
